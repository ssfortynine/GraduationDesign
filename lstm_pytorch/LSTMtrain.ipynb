{
 "cells": [
  {
   "cell_type": "code",
   "execution_count": 1,
   "id": "bbf55625",
   "metadata": {
    "ExecuteTime": {
     "end_time": "2024-03-25T08:18:36.775125Z",
     "start_time": "2024-03-25T08:18:36.772152Z"
    }
   },
   "outputs": [],
   "source": [
    "import datetime\n",
    "import numpy as np\n",
    "import pandas as pd\n",
    "import os\n",
    "from scipy.io import loadmat\n",
    "from sklearn.preprocessing import MinMaxScaler\n",
    "import matplotlib.pyplot as plt\n",
    "import seaborn as sns\n",
    "\n",
    "import torch\n",
    "import torch.nn as nn\n",
    "import torch.optim as optim\n",
    "# from torch.utils.tensorboard import SummaryWriter\n",
    "from torch.utils.data import Dataset,DataLoader\n",
    "from torch.nn.utils.rnn import pack_padded_sequence, pad_packed_sequence"
   ]
  },
  {
   "cell_type": "markdown",
   "id": "32cb4fb0fc89a294",
   "metadata": {
    "collapsed": false
   },
   "source": [
    "# Hyperparameters"
   ]
  },
  {
   "cell_type": "code",
   "execution_count": 2,
   "id": "fb3d6aa9bb4d420b",
   "metadata": {
    "ExecuteTime": {
     "end_time": "2024-03-25T08:18:39.074353Z",
     "start_time": "2024-03-25T08:18:39.071158Z"
    },
    "collapsed": false
   },
   "outputs": [],
   "source": [
    "# hyper\n",
    "features = ['SOH','voltage_measured', 'current_measured',\n",
    "            'temperature_measured', 'time']\n",
    "batch_size = 1  # 1*len(every_file)\n",
    "input_size = len(features)\n",
    "hidden_size = 128\n",
    "num_layers = 1\n",
    "output_size = 1\n",
    "seq_len = 20   # 预测序列长度\n",
    "epoch = 1000   # 1*len(train_directory)\n",
    "learning_rate = 0.001  # upgrade to adaptive lr?\n",
    "\n",
    "save_path = 'seq{}_.pth'.format(str(seq_len))  # model path\n",
    "train_directory = './datasets/train/'\n",
    "val_directory = './datasets/val/'\n",
    "test_directory = './datasets/alldataset/'"
   ]
  },
  {
   "cell_type": "markdown",
   "id": "90cc4ff8117907b2",
   "metadata": {
    "collapsed": false
   },
   "source": [
    "# 1.Data preprocess"
   ]
  },
  {
   "cell_type": "markdown",
   "id": "1b6b48cb13c43874",
   "metadata": {
    "collapsed": false
   },
   "source": [
    "## 1.1 Load Data from mat"
   ]
  },
  {
   "cell_type": "code",
   "execution_count": 3,
   "id": "d1d670f02bac3f38",
   "metadata": {
    "ExecuteTime": {
     "end_time": "2024-03-25T08:18:40.918231Z",
     "start_time": "2024-03-25T08:18:40.910325Z"
    },
    "collapsed": false
   },
   "outputs": [],
   "source": [
    "def load_data(battery_path):\n",
    "    # mat = loadmat('../datasets/BatteryDataset/' + battery_id + '.mat') # MAT PATH ESSENTIAL origin\n",
    "    battery_id = battery_path[-9:-4]\n",
    "    mat = loadmat(battery_path) # MAT PATH ESSENTIAL\n",
    "\n",
    "    counter = 0\n",
    "    dataset = []\n",
    "    capacity_data = []\n",
    "    # print('Total data in dataset: ', len(mat[battery][0, 0]['cycle'][0])) #total cycle\n",
    "\n",
    "    for i in range(len(mat[battery_id][0, 0]['cycle'][0])):\n",
    "        row = mat[battery_id][0, 0]['cycle'][0, i]\n",
    "        if row['type'][0] == 'discharge':\n",
    "            ambient_temperature = row['ambient_temperature'][0][0]\n",
    "            date_time = datetime.datetime(int(row['time'][0][0]),\n",
    "                                          int(row['time'][0][1]),\n",
    "                                          int(row['time'][0][2]),\n",
    "                                          int(row['time'][0][3]),\n",
    "                                          int(row['time'][0][4])) + datetime.timedelta(seconds=int(row['time'][0][5]))\n",
    "            data = row['data']\n",
    "            capacity = data[0][0]['Capacity'][0][0]\n",
    "            for j in range(len(data[0][0]['Voltage_measured'][0])):\n",
    "                voltage_measured = data[0][0]['Voltage_measured'][0][j]\n",
    "                current_measured = data[0][0]['Current_measured'][0][j]\n",
    "                temperature_measured = data[0][0]['Temperature_measured'][0][j]\n",
    "                current_load = data[0][0]['Current_load'][0][j]\n",
    "                voltage_load = data[0][0]['Voltage_load'][0][j]\n",
    "                time = data[0][0]['Time'][0][j]\n",
    "                dataset.append([counter + 1, ambient_temperature, date_time, capacity,\n",
    "                                voltage_measured, current_measured,temperature_measured,\n",
    "                                current_load, voltage_load, time])\n",
    "\n",
    "            capacity_data.append([counter + 1, ambient_temperature, date_time, capacity,\n",
    "                                  voltage_measured, current_measured,temperature_measured,\n",
    "                                  current_load, voltage_load, time])\n",
    "            counter = counter + 1\n",
    "    # print(dataset[0])\n",
    "\n",
    "    return [pd.DataFrame(data=dataset,\n",
    "                         columns=['cycle', 'ambient_temperature', 'datetime','capacity',\n",
    "                                  'voltage_measured','current_measured', 'temperature_measured',\n",
    "                                  'current_load', 'voltage_load', 'time']),\n",
    "            pd.DataFrame(data=capacity_data,\n",
    "                         columns=['cycle', 'ambient_temperature', 'datetime','capacity',\n",
    "                                  'voltage_measured','current_measured', 'temperature_measured',\n",
    "                                  'current_load', 'voltage_load', 'time'])]\n",
    "\n",
    "\n",
    "# test_battery_id0 = 'B0050'\n",
    "# test_battery_id1 = 'B0052'\n",
    "# test_battery_id2 = 'B0055'\n",
    "# test_battery_id3 = 'B0056'\n",
    "# dataset0, capacity0 = load_data(test_directory+ test_battery_id0 + '.mat')\n",
    "# dataset1, capacity1 = load_data(test_directory+ test_battery_id1 + '.mat')\n",
    "# dataset2, capacity2 = load_data(test_directory+ test_battery_id2 + '.mat')\n",
    "# dataset3, capacity3 = load_data(test_directory+ test_battery_id3 + '.mat')\n",
    "# # capacity.to_csv('../datasets/BatteryCSV/{}.csv'.format(test_battery_id), index=False)\n",
    "# # pd.set_option('display.max_columns', 10)\n",
    "# # print(capacity.head(5))\n",
    "# # dataset.describe()\n",
    "#\n",
    "# # 创建一个包含两个子图的 Figure 对象\n",
    "# fig, axs = plt.subplots(2, 2, figsize=(8, 6))\n",
    "# sns.set_style(\"darkgrid\") # 黑色的背景，带有白色网格线\n",
    "# # 在第一个子图中绘制 Sin(x)\n",
    "# axs[0, 0].plot(capacity0['cycle'], capacity0['capacity'])\n",
    "# axs[0, 0].set_title('Discharge {}'.format(test_battery_id0))\n",
    "# axs[0, 0].set_xlabel('cycle')\n",
    "# axs[0, 0].set_xlabel('Capacity')\n",
    "# # 在第二个子图中绘制 Cos(x)\n",
    "# axs[0, 1].plot(capacity1['cycle'], capacity1['capacity'])\n",
    "# axs[0, 1].set_title('Discharge {}'.format(test_battery_id1))\n",
    "# axs[0, 1].set_xlabel('cycle')\n",
    "# axs[0, 1].set_xlabel('Capacity')\n",
    "#\n",
    "# # 在第三个子图中绘制 Cos(x)\n",
    "# axs[1, 0].plot(capacity2['cycle'], capacity2['capacity'])\n",
    "# axs[1, 0].set_title('Discharge {}'.format(test_battery_id2))\n",
    "# axs[1, 0].set_xlabel('cycle')\n",
    "# axs[1, 0].set_xlabel('Capacity')\n",
    "#\n",
    "# # 在第四个子图中绘制 Cos(x)\n",
    "# axs[1, 1].plot(capacity3['cycle'], capacity3['capacity'])\n",
    "# axs[1, 1].set_title('Discharge {}'.format(test_battery_id3))\n",
    "# axs[1, 1].set_xlabel('cycle')\n",
    "# axs[1, 1].set_xlabel('Capacity')\n",
    "#\n",
    "# # 调整布局\n",
    "# plt.tight_layout()\n",
    "# # 显示图像\n",
    "# plt.show()\n"
   ]
  },
  {
   "cell_type": "markdown",
   "id": "23c57f2ca1b777a9",
   "metadata": {
    "collapsed": false
   },
   "source": [
    "## 1.2 normlize data"
   ]
  },
  {
   "cell_type": "code",
   "execution_count": 4,
   "id": "f781e64c6c1fab16",
   "metadata": {
    "ExecuteTime": {
     "end_time": "2024-03-25T08:18:44.072016Z",
     "start_time": "2024-03-25T08:18:44.066159Z"
    },
    "collapsed": false
   },
   "outputs": [],
   "source": [
    "def norm_data(battery_id):\n",
    "    dataset, capacity = load_data(battery_id)\n",
    "    if capacity['capacity'][0] > capacity['capacity'][1] :\n",
    "        C = capacity['capacity'][0]\n",
    "    else :\n",
    "        C = capacity['capacity'][1]\n",
    "    soh = []\n",
    "    for i in range(len(capacity)):\n",
    "        soh.append([capacity['capacity'][i] / C])\n",
    "    soh = pd.DataFrame(data=soh, columns=['SOH'])\n",
    "\n",
    "    # features for training\n",
    "    attribs=['capacity', 'voltage_measured', 'current_measured',\n",
    "             'temperature_measured', 'current_load', 'voltage_load', 'time']\n",
    "    train_dataset = capacity[attribs]\n",
    "    sc = MinMaxScaler(feature_range=(0,1)) # = (num-min)/(max-min)\n",
    "    train_dataset = sc.fit_transform(train_dataset) # issue：not based on Rated\n",
    "    # print(train_dataset.shape)\n",
    "    # print(soh.shape)\n",
    "    attribs_scaled = pd.DataFrame(data=train_dataset,columns=attribs)\n",
    "    return  pd.concat([capacity['cycle'], attribs_scaled, soh], axis=1)\n",
    "\n",
    "def data_loader(battery_id, seq_len, features):\n",
    "    dataset = norm_data(battery_id)\n",
    "    input_size = len(features)\n",
    "    data_set_train=dataset[features].values\n",
    "    x_train=[]\n",
    "    label=[]\n",
    "    batch = len(data_set_train)\n",
    "    #take the last 10t to predict 10t+1\n",
    "    for i in range (seq_len,batch):\n",
    "        x_train.append(data_set_train[i-seq_len:i,:])\n",
    "        label.append(data_set_train[i,0])\n",
    "\n",
    "    x_train = np.array(x_train)\n",
    "    x_train = np.reshape(x_train,(batch-seq_len,seq_len,input_size)) #(batch,seq_len,input_size)\n",
    "    x_train = torch.tensor(x_train, dtype=torch.float32)\n",
    "    label = torch.tensor(label, dtype=torch.float32).view(-1, 1) # (batch,seq_len)取最后一个输出\n",
    "    return x_train, label\n",
    "\n",
    "# # storge\n",
    "# features = ['SOH','voltage_measured', 'current_measured',\n",
    "#             'temperature_measured', 'current_load', 'voltage_load', 'time']\n",
    "# train_data,train_data_real = data_loader('B0005', 10 , features)\n",
    "# train_data,train_data_real\n",
    "# dataset_scaled.to_csv('../datasets/BatteryCSV/B0005norm.csv', index=False)"
   ]
  },
  {
   "cell_type": "markdown",
   "id": "1bb456ffcaf094eb",
   "metadata": {
    "collapsed": false
   },
   "source": [
    "## 1.3 dataloader"
   ]
  },
  {
   "cell_type": "code",
   "execution_count": 5,
   "id": "6d1d6a4d5fcdd422",
   "metadata": {
    "ExecuteTime": {
     "end_time": "2024-03-25T08:18:45.033432Z",
     "start_time": "2024-03-25T08:18:45.029492Z"
    },
    "collapsed": false
   },
   "outputs": [],
   "source": [
    "class LoadDataset(Dataset):\n",
    "    def __init__(self, root_dir, seq_len, features,  transform=None):\n",
    "        self.root_dir = root_dir\n",
    "        self.seq_len  = seq_len\n",
    "        self.features = features\n",
    "        self.transform = transform\n",
    "        self.file_list = sorted(os.listdir(root_dir))  # Assumes file names determine order\n",
    "\n",
    "    def __len__(self):\n",
    "        return len(self.file_list)\n",
    "\n",
    "    def __getitem__(self, idx):\n",
    "        battery_id = self.file_list[idx]\n",
    "        battery_path = os.path.join(self.root_dir, battery_id)\n",
    "        dataset, label = data_loader(battery_path, self.seq_len, self.features)\n",
    "        # if self.transform:\n",
    "        #     dataset = self.transform(dataset)\n",
    "        #     label = self.transform(label)\n",
    "        \n",
    "\n",
    "        return dataset, label\n",
    "\n",
    "\n",
    "# # Example usage\n",
    "# custom_dataset = LoadDataset(train_directory, seq_len=seq_len, features=features)\n",
    "#\n",
    "# # Create DataLoader\n",
    "# batch_size = 1\n",
    "# dataloader = DataLoader(custom_dataset, batch_size=batch_size)\n",
    "#\n",
    "# for train_data, train_data_real in dataloader:\n",
    "#     # train_data=torch.squeeze(train_data)\n",
    "#     print(train_data.shape)"
   ]
  },
  {
   "cell_type": "markdown",
   "id": "315bbd24fde4dc2",
   "metadata": {
    "collapsed": false
   },
   "source": [
    "## 2. training\n",
    "class torch.nn.LSTM(*args, **kwargs)\n",
    "参数有：\n",
    "    input_size：x的特征维度\n",
    "    hidden_size：隐藏层的特征维度\n",
    "    num_layers：lstm隐层的层数，默认为1\n",
    "    bias：False则bihbih=0和bhhbhh=0. 默认为True\n",
    "    batch_first：True则输入输出的数据格式为 (batch, seq_len, feature)\n",
    "    dropout：除最后一层，每一层的输出都进行dropout，默认为: 0\n",
    "    bidirectional：True则为双向lstm默认为False\n",
    "\n",
    "LSTM input(seq_len, batch, input_size)\n",
    "参数有：\n",
    "    batch：每次喂给网络的数据条数，在NLP中就是一次喂给网络多少个句子 !!!\n",
    "    seq_len：序列长度，在NLP中就是句子长度，一般都会用pad_sequence补齐长度!!!\n",
    "    input_size：特征维度，和前面定义网络结构的input_size一致。\n",
    "\n",
    "output,(ht, ct) = net(input)\n",
    "    output: 最后一个状态的隐藏层的神经元输出 size = （seq_Len, batch, num_directions * hidden_size)\n",
    "    ht：最后一个状态的隐含层的状态值\n",
    "    ct：最后一个状态的隐含层的遗忘门值\n",
    "\n"
   ]
  },
  {
   "cell_type": "code",
   "execution_count": 6,
   "id": "a25de1dab11ef0a6",
   "metadata": {
    "ExecuteTime": {
     "end_time": "2024-03-25T08:18:48.137679Z",
     "start_time": "2024-03-25T08:18:48.129847Z"
    },
    "collapsed": false
   },
   "outputs": [],
   "source": [
    "# net structure\n",
    "class LSTMModel(nn.Module):\n",
    "    def __init__(self, input_size, hidden_size, num_layers, output_size):\n",
    "        super(LSTMModel, self).__init__()\n",
    "        self.lstm1 = nn.LSTM(input_size, hidden_size, num_layers, batch_first=True)\n",
    "        self.lstm2 = nn.LSTM(hidden_size, hidden_size, num_layers, batch_first=True)\n",
    "        self.lstm3 = nn.LSTM(hidden_size, hidden_size, num_layers, batch_first=True)\n",
    "        self.lstm4 = nn.LSTM(hidden_size, hidden_size, num_layers, batch_first=True)\n",
    "        self.fc = nn.Linear(hidden_size, output_size)\n",
    "\n",
    "    def forward(self, x):\n",
    "\n",
    "        out, _ = self.lstm1(x) # shape（seq_Len, batch, num_directions * hidden_size)\n",
    "        out, _ = self.lstm2(out)\n",
    "        out, _ = self.lstm3(out)\n",
    "        out, _ = self.lstm4(out)\n",
    "\n",
    "        out = self.fc(out[:, -1, :])  # 使用最后一个时间步的输出的输入（seq_Len, batch, num_directions * hidden_size)\n",
    "        # print(out.shape)\n",
    "        return out\n",
    "    \n",
    "class Rnn(nn.Module):\n",
    "    def __init__(self, input_size, hidden_size, num_layers, output_size):\n",
    "        super(Rnn, self).__init__()\n",
    "        self.lstm1 = nn.LSTM(input_size, hidden_size, num_layers, batch_first=True)\n",
    "        self.fc = nn.Linear(hidden_size, output_size)\n",
    "\n",
    "    def forward(self, x):\n",
    "\n",
    "        out, _ = self.lstm1(x) # shape（seq_Len, batch, num_directions * hidden_size)\n",
    "\n",
    "        out = self.fc(out[:, -1, :])  # 使用最后一个时间步的输出的输入（seq_Len, batch, num_directions * hidden_size)\n",
    "        # print(out.shape)\n",
    "        return out\n"
   ]
  },
  {
   "cell_type": "code",
   "execution_count": 7,
   "id": "a0ea029b5d94e7ad",
   "metadata": {
    "ExecuteTime": {
     "end_time": "2024-03-18T17:27:12.461668300Z",
     "start_time": "2024-03-18T12:34:37.024881600Z"
    },
    "collapsed": false
   },
   "outputs": [
    {
     "name": "stdout",
     "output_type": "stream",
     "text": [
      "Training on GPU.\n"
     ]
    },
    {
     "ename": "KeyboardInterrupt",
     "evalue": "",
     "output_type": "error",
     "traceback": [
      "\u001b[1;31m---------------------------------------------------------------------------\u001b[0m",
      "\u001b[1;31mKeyboardInterrupt\u001b[0m                         Traceback (most recent call last)",
      "Cell \u001b[1;32mIn[7], line 16\u001b[0m\n\u001b[0;32m     11\u001b[0m \u001b[38;5;66;03m# 构建模型\u001b[39;00m\n\u001b[0;32m     12\u001b[0m model \u001b[38;5;241m=\u001b[39m LSTMModel(input_size\u001b[38;5;241m=\u001b[39minput_size,\n\u001b[0;32m     13\u001b[0m                   hidden_size\u001b[38;5;241m=\u001b[39mhidden_size,\n\u001b[0;32m     14\u001b[0m                   output_size\u001b[38;5;241m=\u001b[39moutput_size,\n\u001b[0;32m     15\u001b[0m                   num_layers \u001b[38;5;241m=\u001b[39m num_layers)\n\u001b[1;32m---> 16\u001b[0m model \u001b[38;5;241m=\u001b[39m \u001b[43mmodel\u001b[49m\u001b[38;5;241;43m.\u001b[39;49m\u001b[43mto\u001b[49m\u001b[43m(\u001b[49m\u001b[43mdevice\u001b[49m\u001b[43m)\u001b[49m \u001b[38;5;66;03m# lstm doesnt work on gpu?\u001b[39;00m\n\u001b[0;32m     18\u001b[0m output \u001b[38;5;241m=\u001b[39m np\u001b[38;5;241m.\u001b[39mload(\u001b[38;5;124m'\u001b[39m\u001b[38;5;124m./tensor.npy\u001b[39m\u001b[38;5;124m'\u001b[39m)\n\u001b[0;32m     20\u001b[0m \u001b[38;5;66;03m# train\u001b[39;00m\n",
      "File \u001b[1;32md:\\miniconda3\\envs\\torch\\lib\\site-packages\\torch\\nn\\modules\\module.py:1152\u001b[0m, in \u001b[0;36mModule.to\u001b[1;34m(self, *args, **kwargs)\u001b[0m\n\u001b[0;32m   1148\u001b[0m         \u001b[38;5;28;01mreturn\u001b[39;00m t\u001b[38;5;241m.\u001b[39mto(device, dtype \u001b[38;5;28;01mif\u001b[39;00m t\u001b[38;5;241m.\u001b[39mis_floating_point() \u001b[38;5;129;01mor\u001b[39;00m t\u001b[38;5;241m.\u001b[39mis_complex() \u001b[38;5;28;01melse\u001b[39;00m \u001b[38;5;28;01mNone\u001b[39;00m,\n\u001b[0;32m   1149\u001b[0m                     non_blocking, memory_format\u001b[38;5;241m=\u001b[39mconvert_to_format)\n\u001b[0;32m   1150\u001b[0m     \u001b[38;5;28;01mreturn\u001b[39;00m t\u001b[38;5;241m.\u001b[39mto(device, dtype \u001b[38;5;28;01mif\u001b[39;00m t\u001b[38;5;241m.\u001b[39mis_floating_point() \u001b[38;5;129;01mor\u001b[39;00m t\u001b[38;5;241m.\u001b[39mis_complex() \u001b[38;5;28;01melse\u001b[39;00m \u001b[38;5;28;01mNone\u001b[39;00m, non_blocking)\n\u001b[1;32m-> 1152\u001b[0m \u001b[38;5;28;01mreturn\u001b[39;00m \u001b[38;5;28;43mself\u001b[39;49m\u001b[38;5;241;43m.\u001b[39;49m\u001b[43m_apply\u001b[49m\u001b[43m(\u001b[49m\u001b[43mconvert\u001b[49m\u001b[43m)\u001b[49m\n",
      "File \u001b[1;32md:\\miniconda3\\envs\\torch\\lib\\site-packages\\torch\\nn\\modules\\module.py:802\u001b[0m, in \u001b[0;36mModule._apply\u001b[1;34m(self, fn, recurse)\u001b[0m\n\u001b[0;32m    800\u001b[0m \u001b[38;5;28;01mif\u001b[39;00m recurse:\n\u001b[0;32m    801\u001b[0m     \u001b[38;5;28;01mfor\u001b[39;00m module \u001b[38;5;129;01min\u001b[39;00m \u001b[38;5;28mself\u001b[39m\u001b[38;5;241m.\u001b[39mchildren():\n\u001b[1;32m--> 802\u001b[0m         \u001b[43mmodule\u001b[49m\u001b[38;5;241;43m.\u001b[39;49m\u001b[43m_apply\u001b[49m\u001b[43m(\u001b[49m\u001b[43mfn\u001b[49m\u001b[43m)\u001b[49m\n\u001b[0;32m    804\u001b[0m \u001b[38;5;28;01mdef\u001b[39;00m \u001b[38;5;21mcompute_should_use_set_data\u001b[39m(tensor, tensor_applied):\n\u001b[0;32m    805\u001b[0m     \u001b[38;5;28;01mif\u001b[39;00m torch\u001b[38;5;241m.\u001b[39m_has_compatible_shallow_copy_type(tensor, tensor_applied):\n\u001b[0;32m    806\u001b[0m         \u001b[38;5;66;03m# If the new tensor has compatible tensor type as the existing tensor,\u001b[39;00m\n\u001b[0;32m    807\u001b[0m         \u001b[38;5;66;03m# the current behavior is to change the tensor in-place using `.data =`,\u001b[39;00m\n\u001b[1;32m   (...)\u001b[0m\n\u001b[0;32m    812\u001b[0m         \u001b[38;5;66;03m# global flag to let the user control whether they want the future\u001b[39;00m\n\u001b[0;32m    813\u001b[0m         \u001b[38;5;66;03m# behavior of overwriting the existing tensor or not.\u001b[39;00m\n",
      "File \u001b[1;32md:\\miniconda3\\envs\\torch\\lib\\site-packages\\torch\\nn\\modules\\rnn.py:216\u001b[0m, in \u001b[0;36mRNNBase._apply\u001b[1;34m(self, fn, recurse)\u001b[0m\n\u001b[0;32m    215\u001b[0m \u001b[38;5;28;01mdef\u001b[39;00m \u001b[38;5;21m_apply\u001b[39m(\u001b[38;5;28mself\u001b[39m, fn, recurse\u001b[38;5;241m=\u001b[39m\u001b[38;5;28;01mTrue\u001b[39;00m):\n\u001b[1;32m--> 216\u001b[0m     ret \u001b[38;5;241m=\u001b[39m \u001b[38;5;28;43msuper\u001b[39;49m\u001b[43m(\u001b[49m\u001b[43m)\u001b[49m\u001b[38;5;241;43m.\u001b[39;49m\u001b[43m_apply\u001b[49m\u001b[43m(\u001b[49m\u001b[43mfn\u001b[49m\u001b[43m,\u001b[49m\u001b[43m \u001b[49m\u001b[43mrecurse\u001b[49m\u001b[43m)\u001b[49m\n\u001b[0;32m    218\u001b[0m     \u001b[38;5;66;03m# Resets _flat_weights\u001b[39;00m\n\u001b[0;32m    219\u001b[0m     \u001b[38;5;66;03m# Note: be v. careful before removing this, as 3rd party device types\u001b[39;00m\n\u001b[0;32m    220\u001b[0m     \u001b[38;5;66;03m# likely rely on this behavior to properly .to() modules like LSTM.\u001b[39;00m\n\u001b[0;32m    221\u001b[0m     \u001b[38;5;28mself\u001b[39m\u001b[38;5;241m.\u001b[39m_init_flat_weights()\n",
      "File \u001b[1;32md:\\miniconda3\\envs\\torch\\lib\\site-packages\\torch\\nn\\modules\\module.py:825\u001b[0m, in \u001b[0;36mModule._apply\u001b[1;34m(self, fn, recurse)\u001b[0m\n\u001b[0;32m    821\u001b[0m \u001b[38;5;66;03m# Tensors stored in modules are graph leaves, and we don't want to\u001b[39;00m\n\u001b[0;32m    822\u001b[0m \u001b[38;5;66;03m# track autograd history of `param_applied`, so we have to use\u001b[39;00m\n\u001b[0;32m    823\u001b[0m \u001b[38;5;66;03m# `with torch.no_grad():`\u001b[39;00m\n\u001b[0;32m    824\u001b[0m \u001b[38;5;28;01mwith\u001b[39;00m torch\u001b[38;5;241m.\u001b[39mno_grad():\n\u001b[1;32m--> 825\u001b[0m     param_applied \u001b[38;5;241m=\u001b[39m \u001b[43mfn\u001b[49m\u001b[43m(\u001b[49m\u001b[43mparam\u001b[49m\u001b[43m)\u001b[49m\n\u001b[0;32m    826\u001b[0m should_use_set_data \u001b[38;5;241m=\u001b[39m compute_should_use_set_data(param, param_applied)\n\u001b[0;32m    827\u001b[0m \u001b[38;5;28;01mif\u001b[39;00m should_use_set_data:\n",
      "File \u001b[1;32md:\\miniconda3\\envs\\torch\\lib\\site-packages\\torch\\nn\\modules\\module.py:1150\u001b[0m, in \u001b[0;36mModule.to.<locals>.convert\u001b[1;34m(t)\u001b[0m\n\u001b[0;32m   1147\u001b[0m \u001b[38;5;28;01mif\u001b[39;00m convert_to_format \u001b[38;5;129;01mis\u001b[39;00m \u001b[38;5;129;01mnot\u001b[39;00m \u001b[38;5;28;01mNone\u001b[39;00m \u001b[38;5;129;01mand\u001b[39;00m t\u001b[38;5;241m.\u001b[39mdim() \u001b[38;5;129;01min\u001b[39;00m (\u001b[38;5;241m4\u001b[39m, \u001b[38;5;241m5\u001b[39m):\n\u001b[0;32m   1148\u001b[0m     \u001b[38;5;28;01mreturn\u001b[39;00m t\u001b[38;5;241m.\u001b[39mto(device, dtype \u001b[38;5;28;01mif\u001b[39;00m t\u001b[38;5;241m.\u001b[39mis_floating_point() \u001b[38;5;129;01mor\u001b[39;00m t\u001b[38;5;241m.\u001b[39mis_complex() \u001b[38;5;28;01melse\u001b[39;00m \u001b[38;5;28;01mNone\u001b[39;00m,\n\u001b[0;32m   1149\u001b[0m                 non_blocking, memory_format\u001b[38;5;241m=\u001b[39mconvert_to_format)\n\u001b[1;32m-> 1150\u001b[0m \u001b[38;5;28;01mreturn\u001b[39;00m \u001b[43mt\u001b[49m\u001b[38;5;241;43m.\u001b[39;49m\u001b[43mto\u001b[49m\u001b[43m(\u001b[49m\u001b[43mdevice\u001b[49m\u001b[43m,\u001b[49m\u001b[43m \u001b[49m\u001b[43mdtype\u001b[49m\u001b[43m \u001b[49m\u001b[38;5;28;43;01mif\u001b[39;49;00m\u001b[43m \u001b[49m\u001b[43mt\u001b[49m\u001b[38;5;241;43m.\u001b[39;49m\u001b[43mis_floating_point\u001b[49m\u001b[43m(\u001b[49m\u001b[43m)\u001b[49m\u001b[43m \u001b[49m\u001b[38;5;129;43;01mor\u001b[39;49;00m\u001b[43m \u001b[49m\u001b[43mt\u001b[49m\u001b[38;5;241;43m.\u001b[39;49m\u001b[43mis_complex\u001b[49m\u001b[43m(\u001b[49m\u001b[43m)\u001b[49m\u001b[43m \u001b[49m\u001b[38;5;28;43;01melse\u001b[39;49;00m\u001b[43m \u001b[49m\u001b[38;5;28;43;01mNone\u001b[39;49;00m\u001b[43m,\u001b[49m\u001b[43m \u001b[49m\u001b[43mnon_blocking\u001b[49m\u001b[43m)\u001b[49m\n",
      "File \u001b[1;32md:\\miniconda3\\envs\\torch\\lib\\site-packages\\torch\\cuda\\__init__.py:306\u001b[0m, in \u001b[0;36m_lazy_init\u001b[1;34m()\u001b[0m\n\u001b[0;32m    302\u001b[0m torch\u001b[38;5;241m.\u001b[39m_C\u001b[38;5;241m.\u001b[39m_cuda_init()\n\u001b[0;32m    303\u001b[0m \u001b[38;5;66;03m# Some of the queued calls may reentrantly call _lazy_init();\u001b[39;00m\n\u001b[0;32m    304\u001b[0m \u001b[38;5;66;03m# we need to just return without initializing in that case.\u001b[39;00m\n\u001b[0;32m    305\u001b[0m \u001b[38;5;66;03m# However, we must not let any *other* threads in!\u001b[39;00m\n\u001b[1;32m--> 306\u001b[0m \u001b[43m_tls\u001b[49m\u001b[38;5;241m.\u001b[39mis_initializing \u001b[38;5;241m=\u001b[39m \u001b[38;5;28;01mTrue\u001b[39;00m\n\u001b[0;32m    308\u001b[0m \u001b[38;5;28;01mfor\u001b[39;00m calls \u001b[38;5;129;01min\u001b[39;00m _lazy_seed_tracker\u001b[38;5;241m.\u001b[39mget_calls():\n\u001b[0;32m    309\u001b[0m     \u001b[38;5;28;01mif\u001b[39;00m calls:\n",
      "\u001b[1;31mKeyboardInterrupt\u001b[0m: "
     ]
    }
   ],
   "source": [
    "# train\n",
    "\n",
    "# checking if GPU is available\n",
    "device = torch.device(\"cpu\")\n",
    "if (torch.cuda.is_available()):\n",
    "    device = torch.device(\"cuda:0\")\n",
    "    print('Training on GPU.')\n",
    "else:\n",
    "    print('No GPU available, training on CPU.')\n",
    "\n",
    "# 构建模型\n",
    "model = LSTMModel(input_size=input_size,\n",
    "                  hidden_size=hidden_size,\n",
    "                  output_size=output_size,\n",
    "                  num_layers = num_layers)\n",
    "model = model.to(device) # lstm doesnt work on gpu?\n",
    "\n",
    "output = np.load('./tensor.npy')\n",
    "\n",
    "# train\n",
    "train_dataset = LoadDataset(train_directory, seq_len=seq_len, features=features)\n",
    "\n",
    "train_dataloader = DataLoader(train_dataset, batch_size=batch_size)\n",
    "# validation\n",
    "val_dataset = LoadDataset(val_directory, seq_len=seq_len, features=features)\n",
    "val_dataloader = DataLoader(val_dataset, batch_size=batch_size)\n",
    "\n",
    "# 定义损失函数和优化器\n",
    "criterion = nn.MSELoss()\n",
    "# criterion = nn.CrossEntropyLoss()\n",
    "optimizer = optim.Adam(model.parameters(), lr=learning_rate)\n",
    "\n",
    "# 储存路径\n",
    "work_dir = './LSTM'\n",
    "# 添加tensorboard\n",
    "# writer = SummaryWriter(\"{}/logs\".format(work_dir))\n",
    "\n",
    "# model = model.to(device)\n",
    "criterion = criterion.to(device)\n",
    "\n",
    "# checkponits = epoch // 5\n",
    "\n",
    "训练模型\n",
    "for epoch in range(epoch):\n",
    "    print(\"-------epoch  {} -------\".format(epoch))\n",
    "    # 训练步骤\n",
    "    model.train()\n",
    "    total_train_loss = 0\n",
    "    for train_data, train_data_real in train_dataloader:\n",
    "        train_data = torch.squeeze(train_data).to(device)\n",
    "        train_data_real = torch.squeeze(train_data_real).to(device)\n",
    "\n",
    "        output = model(train_data)\n",
    "        output = torch.squeeze(output)\n",
    "        optimizer.zero_grad()\n",
    "        train_loss = criterion(output, train_data_real)\n",
    "        train_loss.backward()\n",
    "        optimizer.step()\n",
    "\n",
    "        total_train_loss += train_loss.item()\n",
    "    avg_train_loss = total_train_loss/len(train_dataloader)\n",
    "    print(\"train set Loss: {}\".format(avg_train_loss)) # 出现nan可能是seq_len太长了,有些数据集比seq_len短\n",
    "\n",
    "    # 测试步骤\n",
    "    model.eval()\n",
    "    total_val_loss = 0\n",
    "    with torch.no_grad():#用于在推断或验证阶段，当不需要计算梯度时，以提高效率和减少内存占用\n",
    "        for val_data, val_data_real in val_dataloader:\n",
    "            val_data = torch.squeeze(val_data).to(device)\n",
    "            val_data_real = torch.squeeze(val_data_real).to(device)\n",
    "\n",
    "            val_output = model(val_data)\n",
    "            val_output = torch.squeeze(val_output)\n",
    "            val_loss = criterion(val_output, val_data_real)\n",
    "            total_val_loss += val_loss.item()\n",
    "\n",
    "    avg_val_loss = total_val_loss/len(val_dataloader)\n",
    "    print(\"val set Loss: {}\".format(avg_val_loss))\n",
    "\n",
    "    # save checkpoint\n",
    "    # if epochs % checkponits == 0:\n",
    "    if avg_train_loss < 0.0001  and avg_val_loss.item()< 0.0001 :\n",
    "        torch.save(model.state_dict(), str('EX_')+save_path[:-4]+str(epoch)+'.pth')\n",
    "        print(\"save model:epoch {}\".format(epoch))\n",
    "    if avg_train_loss < 0.0005  and avg_val_loss.item()< 0.0005 :\n",
    "        torch.save(model.state_dict(), str('A_')+save_path[:-4]+str(epoch)+'.pth')\n",
    "        print(\"save model:epoch {}\".format(epoch))\n",
    "    if avg_train_loss < 0.001  and avg_val_loss.item()< 0.001 :\n",
    "        torch.save(model.state_dict(), str('B_')+save_path[:-4]+str(epoch)+'.pth')\n",
    "        print(\"save model:epoch {}\".format(epoch))\n",
    "# save last1\n",
    "torch.save(model.state_dict(), save_path[:-4]+'last.pth')"
   ]
  },
  {
   "cell_type": "markdown",
   "id": "c048ac89b009992b",
   "metadata": {
    "collapsed": false
   },
   "source": [
    "# 3.eval and plot comparation"
   ]
  },
  {
   "cell_type": "code",
   "execution_count": 11,
   "id": "7b6efadd8c3db5c8",
   "metadata": {
    "ExecuteTime": {
     "end_time": "2024-03-25T09:28:46.523686Z",
     "start_time": "2024-03-25T09:28:45.935980Z"
    },
    "collapsed": false
   },
   "outputs": [
    {
     "name": "stdout",
     "output_type": "stream",
     "text": [
      "(82,)\n",
      "(82,)\n",
      "LSTM4:\n",
      "MAE:0.02566491189718749\n",
      "MAPE:0.03241051423116157\n",
      "MSE:0.0008777893178571535\n",
      "RMSE:0.029627509477800417\n",
      "LSTM1:\n",
      "MAE:0.015630272783151673\n",
      "MAPE:0.019495023168246205\n",
      "MSE:0.0004790085338323641\n",
      "RMSE:0.021886263587747548\n"
     ]
    },
    {
     "data": {
      "image/png": "[encoded data removed]",
      "text/plain": [
       "<Figure size 800x500 with 1 Axes>"
      ]
     },
     "metadata": {},
     "output_type": "display_data"
    }
   ],
   "source": [
    "test_battery_id = 'B0055'\n",
    "# save_path = save_path\n",
    "save_path = './lstm4.pth'\n",
    "save_path2 = './lstm1.pth'\n",
    "\n",
    "test_battery_path = test_directory+ test_battery_id + '.mat'\n",
    "test_data,test_data_real = data_loader(test_battery_path,seq_len,features)\n",
    "\n",
    "# Overlay input datas(tensor.npy)\n",
    "flat_test_data = test_data.view(82, -1)\n",
    "numpy_array_test_data = flat_test_data.cpu().numpy()\n",
    "np.save('tensor.npy', numpy_array_test_data)\n",
    "\n",
    "# load\n",
    "lstm1 = LSTMModel(input_size=input_size, hidden_size=hidden_size, output_size=output_size, num_layers=num_layers)\n",
    "lstm1.load_state_dict(torch.load(save_path))\n",
    "lstm1.eval()\n",
    "output_1 = lstm1(test_data)\n",
    "predicted_data_1 = output_1.detach().numpy().reshape(-1)\n",
    "print(predicted_data_1.shape)\n",
    "\n",
    "# load\n",
    "lstm2 = Rnn(input_size=input_size, hidden_size=hidden_size, output_size=output_size, num_layers=num_layers)\n",
    "lstm2.load_state_dict(torch.load(save_path2))\n",
    "lstm2.eval()\n",
    "output_2 = lstm2(test_data)\n",
    "predicted_data_2 = output_2.detach().numpy().reshape(-1)\n",
    "print(predicted_data_2.shape)\n",
    "# Save software prediction data and compare it with hardware\n",
    "np.save('predicted_data.npy', predicted_data_2)\n",
    "\n",
    "# draw\n",
    "origin_data = norm_data(test_battery_path) # dictionary\n",
    "# Save origin SOH data\n",
    "np.save('origin.npy', origin_data['SOH'])\n",
    "\n",
    "sns.set_style(\"white\")\n",
    "plt.figure(figsize=(8, 5))\n",
    "#Draw\n",
    "plt.plot([i for i in range(len(origin_data['SOH']))], origin_data['SOH'], label='SOH')\n",
    "# predicted_data = np.concatenate((origin_data['SOH'][0:seq_len],predicted_data), axis = 0)\n",
    "plt.plot([i for i in range(seq_len,len(origin_data['SOH']))], predicted_data_1, label='Predicted SOH LSTM4')\n",
    "plt.plot([i for i in range(seq_len,len(origin_data['SOH']))], predicted_data_2, label='Predicted SOH LSTM1')\n",
    "plt.plot([0.,len(origin_data['SOH'])], [0.70, 0.70], label='Threshold')\n",
    "\n",
    "# make x-axis ticks legible\n",
    "adf = plt.gca().get_xaxis().get_major_formatter()\n",
    "plt.legend() \n",
    "plt.xlabel('cycle')\n",
    "plt.ylabel('SOH')\n",
    "plt.title('Discharge {}'.format(test_battery_id))\n",
    "\n",
    "\n",
    "MAE =  np.mean(np.abs(predicted_data_1 - origin_data['SOH'][seq_len:]))\n",
    "MAPE = np.mean(np.abs((origin_data['SOH'][seq_len:] - predicted_data_1) / origin_data['SOH'][seq_len:]))\n",
    "MSE = np.mean((predicted_data_1 - origin_data['SOH'][seq_len:]) ** 2)\n",
    "RMSE = np.sqrt(MSE)\n",
    "print('LSTM4:')\n",
    "print('MAE:{}'.format(MAE))\n",
    "print('MAPE:{}'.format(MAPE))\n",
    "print('MSE:{}'.format(MSE))\n",
    "print('RMSE:{}'.format(RMSE))\n",
    "\n",
    "MAE =  np.mean(np.abs(predicted_data_2 - origin_data['SOH'][seq_len:]))\n",
    "MAPE = np.mean(np.abs((origin_data['SOH'][seq_len:] - predicted_data_2) / origin_data['SOH'][seq_len:]))\n",
    "MSE = np.mean((predicted_data_2 - origin_data['SOH'][seq_len:]) ** 2)\n",
    "RMSE = np.sqrt(MSE)\n",
    "print('LSTM1:')\n",
    "print('MAE:{}'.format(MAE))\n",
    "print('MAPE:{}'.format(MAPE))\n",
    "print('MSE:{}'.format(MSE))\n",
    "print('RMSE:{}'.format(RMSE))"
   ]
  }
 ],
 "metadata": {
  "kernelspec": {
   "display_name": "Python 3 (ipykernel)",
   "language": "python",
   "name": "python3"
  },
  "language_info": {
   "codemirror_mode": {
    "name": "ipython",
    "version": 3
   },
   "file_extension": ".py",
   "mimetype": "text/x-python",
   "name": "python",
   "nbconvert_exporter": "python",
   "pygments_lexer": "ipython3",
   "version": "3.8.19"
  }
 },
 "nbformat": 4,
 "nbformat_minor": 5
}
