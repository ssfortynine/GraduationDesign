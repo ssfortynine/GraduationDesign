{
 "cells": [
  {
   "cell_type": "markdown",
   "metadata": {},
   "source": [
    "# 1. 加载Overlay，定义DMA对象"
   ]
  },
  {
   "cell_type": "code",
   "execution_count": 10,
   "metadata": {},
   "outputs": [
    {
     "name": "stderr",
     "output_type": "stream",
     "text": [
      "/usr/local/lib/python3.6/dist-packages/pynq/pl_server/device.py:594: UserWarning: Users will not get PARAMETERS / REGISTERS information through TCL files. HWH file is recommended.\n",
      "  warnings.warn(message, UserWarning)\n",
      "/usr/local/lib/python3.6/dist-packages/pynq/lib/dma.py:200: UserWarning: Failed to find parameter c_sg_length_width; users should really use *.hwh files for overlays.\n",
      "  warnings.warn(message, UserWarning)\n"
     ]
    }
   ],
   "source": [
    "from pynq import Overlay, allocate\n",
    "import pynq.lib.dma\n",
    "\n",
    "overlay = Overlay('./mnist_lstm.bit')  # 加载Overlay\n",
    "dma = overlay.axi_dma_0  # 定义DMA对象"
   ]
  },
  {
   "cell_type": "markdown",
   "metadata": {},
   "source": [
    "# 2. 解析MNIST测试集图片和标签数据"
   ]
  },
  {
   "cell_type": "code",
   "execution_count": 11,
   "metadata": {},
   "outputs": [
    {
     "name": "stdout",
     "output_type": "stream",
     "text": [
      "magic number: 2051; image number: 10000; image size: 28px*28px\n",
      "done\n",
      "magic number:2049; image number: 10000\n",
      "done\n"
     ]
    }
   ],
   "source": [
    "import read_mnist as reader\n",
    "test_images = reader.load_images('data/t10k-images.idx3-ubyte')  # 读取测试集图片\n",
    "test_labels = reader.load_labels('data/t10k-labels.idx1-ubyte')  # 读取测试集标签"
   ]
  },
  {
   "cell_type": "markdown",
   "metadata": {},
   "source": [
    "# 3. 从测试集中随机选取并显示若干图片"
   ]
  },
  {
   "cell_type": "code",
   "execution_count": 12,
   "metadata": {},
   "outputs": [
    {
     "name": "stdout",
     "output_type": "stream",
     "text": [
      "Image labels:  [2 0 3 3 4 5 6 9]\n"
     ]
    },
    {
     "data": {
      "image/png": "[encoded data removed]",
      "text/plain": [
       "<matplotlib.figure.Figure at 0xaffef230>"
      ]
     },
     "metadata": {},
     "output_type": "display_data"
    }
   ],
   "source": [
    "import random\n",
    "import numpy as np\n",
    "import matplotlib.pyplot as plt\n",
    "\n",
    "IMG_NUM = 8\n",
    "\n",
    "index = [0] * IMG_NUM\n",
    "img = [0] * IMG_NUM\n",
    "for i in range (IMG_NUM):\n",
    "    index[i] = random.randint(0, 10000)  # 在测试集中随机选取8张图片\n",
    "    img_dat = np.array(test_images[index[i]]).reshape(28, 28)\n",
    "\n",
    "# 显示上面选取的8张测试图片\n",
    "plt.figure()\n",
    "for i in range (IMG_NUM):\n",
    "    plt.subplot(1, IMG_NUM, i + 1)\n",
    "    plt.imshow(np.array(test_images[index[i]]).reshape(28, 28),cmap='gray')\n",
    "print('Image labels: ', test_labels[index])\n",
    "plt.show()"
   ]
  },
  {
   "cell_type": "markdown",
   "metadata": {},
   "source": [
    "# 4. RNN软件前向推导"
   ]
  },
  {
   "cell_type": "code",
   "execution_count": 13,
   "metadata": {},
   "outputs": [
    {
     "name": "stdout",
     "output_type": "stream",
     "text": [
      "Result: 2, time: 0.398510s\n",
      "Result: 0, time: 0.395251s\n",
      "Result: 3, time: 0.396591s\n",
      "Result: 3, time: 0.395784s\n",
      "Result: 4, time: 0.395576s\n",
      "Result: 5, time: 0.396025s\n",
      "Result: 6, time: 0.395136s\n",
      "Result: 9, time: 0.395780s\n"
     ]
    }
   ],
   "source": [
    "import time\n",
    "import ctypes as ctyp\n",
    "\n",
    "net = ctyp.CDLL('./liblstm.so')  # 加载RNN软件动态库\n",
    "\n",
    "img_vec = (ctyp.c_float * (28 * 28))()\n",
    "res_vec = (ctyp.c_float * 10)()\n",
    "\n",
    "sw_time = [0] * IMG_NUM\n",
    "for i in range (IMG_NUM):\n",
    "    t0 = time.time()\n",
    "    for j in range(28*28):  # 归一化\n",
    "        img_vec[j] = test_images[index[i]][j] / 255\n",
    "    ifr_res = net.infer(img_vec, res_vec)  # 调用软件RNN进行推导\n",
    "    t1 = time.time()\n",
    "    sw_time[i] = t1 - t0\n",
    "    print('Result: %d,' % ifr_res, 'time: {:1.6f}s'.format(sw_time[i]))"
   ]
  },
  {
   "cell_type": "markdown",
   "metadata": {},
   "source": [
    "# 5. 利用IP核加速RNN推导，并计算加速比"
   ]
  },
  {
   "cell_type": "code",
   "execution_count": 14,
   "metadata": {},
   "outputs": [
    {
     "name": "stdout",
     "output_type": "stream",
     "text": [
      "Result: 2, time: 0.281638s\n",
      "Result: 0, time: 0.281376s\n",
      "Result: 3, time: 0.281418s\n",
      "Result: 3, time: 0.281421s\n",
      "Result: 4, time: 0.281477s\n",
      "Result: 5, time: 0.281421s\n",
      "Result: 6, time: 0.281406s\n",
      "Result: 9, time: 0.281385s\n",
      "Average speedup: 1.407\n"
     ]
    }
   ],
   "source": [
    "hw_time = [0] * IMG_NUM\n",
    "out_buf = allocate(shape=(10000, 10), dtype = np.float32)\n",
    "for i in range (IMG_NUM):\n",
    "    t0 = time.time()\n",
    "    dma.sendchannel.transfer(test_images[index[i]])  # 调用DMA将待预测图片数据传输到IP核\n",
    "    dma.recvchannel.transfer(out_buf[index[i]])  # 调用DMA从IP核获取RNN的推导结果\n",
    "    dma.sendchannel.wait()  # 等待DMA发送完成\n",
    "    dma.recvchannel.wait()  # 等待DMA接收完成\n",
    "    t1 = time.time()\n",
    "    hw_time[i] = t1 - t0\n",
    "\n",
    "    out_list = np.array(out_buf[index[i]]).tolist()\n",
    "    max_indx = out_list.index(max(out_list))  # 推导结果向量的最大分量的下标即为预测结果\n",
    "    print('Result: %d,' % max_indx, 'time: {:1.6f}s'.format(hw_time[i]))\n",
    "    \n",
    "# 计算平均加速比\n",
    "speed_up = [0.0] * IMG_NUM\n",
    "for i in range (IMG_NUM):\n",
    "    speed_up[i] = sw_time[i] / hw_time[i]\n",
    "print('Average speedup: {:.3f}'.format(sum(speed_up) / IMG_NUM))"
   ]
  },
  {
   "cell_type": "code",
   "execution_count": null,
   "metadata": {},
   "outputs": [],
   "source": []
  }
 ],
 "metadata": {
  "kernelspec": {
   "display_name": "Python 3",
   "language": "python",
   "name": "python3"
  },
  "language_info": {
   "codemirror_mode": {
    "name": "ipython",
    "version": 3
   },
   "file_extension": ".py",
   "mimetype": "text/x-python",
   "name": "python",
   "nbconvert_exporter": "python",
   "pygments_lexer": "ipython3",
   "version": "3.6.5"
  }
 },
 "nbformat": 4,
 "nbformat_minor": 2
}